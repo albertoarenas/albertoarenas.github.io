{
  "cells": [
    {
      "cell_type": "markdown",
      "metadata": {
        "id": "view-in-github",
        "colab_type": "text"
      },
      "source": [
        "<a href=\"https://colab.research.google.com/github/albertoarenas/albertoarenas.github.io/blob/main/classes_notebooks/%5BKschool_NB008%5DPython_Diccionarios.ipynb\" target=\"_parent\"><img src=\"https://colab.research.google.com/assets/colab-badge.svg\" alt=\"Open In Colab\"/></a>"
      ]
    },
    {
      "cell_type": "markdown",
      "metadata": {
        "id": "_rSbqBjkpibl"
      },
      "source": [
        "# [Kschool NB008]Python_Diccionarios\n",
        "* Objetivos:\n",
        "    - Conocer los diccionarios y su diferencia con las listas\n",
        "    - Entender como integrar y modificar la información\n",
        "    - Entender la ayuda de los métodos"
      ]
    },
    {
      "cell_type": "markdown",
      "metadata": {
        "id": "6spqRXg3pibn"
      },
      "source": [
        "<img src=\"https://media.istockphoto.com/id/1024173328/vector/challenge-accepted-banner.jpg?s=612x612&w=0&k=20&c=HkpbXPIxSoS0zZIB36AdXz8u3TE2peAC0_s1jNTCKTc=\" alt=\"Challenge Accepted\" style=\"width: 300px\">"
      ]
    },
    {
      "cell_type": "markdown",
      "metadata": {
        "id": "M18yoc6zpibn"
      },
      "source": [
        "---\n",
        "---\n",
        "---"
      ]
    },
    {
      "cell_type": "markdown",
      "metadata": {
        "id": "Sx8cifm5pibn"
      },
      "source": [
        "# **Diccionarios**\n",
        "---"
      ]
    },
    {
      "cell_type": "markdown",
      "metadata": {
        "id": "fDcv8l6Rpibo"
      },
      "source": [
        "Los diccionarios en Python almacenan pares de objetos clave-valor `key-value`.\n",
        "\n",
        "En contraste con las listas, los diccionarios **no** garantizan que se mantenga el **orden** en que sus objetos han sido almacenados. Además, en un diccionario el acceso a un objeto se realiza indicando la clave (**key**) de ese objeto. Este es otro elemento diferenciador entre diccionarios y listas, donde el acceso a los objetos se realiza indicando la posición que ocupan. Los diccionarios utilizan llaves (`{}`) para encerrar a sus elementos, y dos puntos (`:`) para indicar las claves(**key**) y sus valores(**values**) asociados."
      ]
    },
    {
      "cell_type": "markdown",
      "metadata": {
        "id": "tyGoBc51pibo"
      },
      "source": [
        "Los diccionarios pueden tratar con prácticamente cualquier tipo de dato ademas estos tienen muy pocas restricciones en cuanto a las claves y valores que se pueden utilizar. Estas restricciones son las siguientes:\n",
        "\n",
        "- `Claves`: no puede haber claves duplicadas y éstas tienen que ser objetos inmutables.\n",
        "- `Valores`: no existe ninguna restricción en cuanto a los tipos de datos."
      ]
    },
    {
      "cell_type": "markdown",
      "metadata": {
        "id": "iwrqZj5Xpibo"
      },
      "source": [
        "Las principales propiedades que los defines son:\n",
        "1. Son **dinámicos**, pueden crecer o decrecer, se pueden añadir o eliminar elementos.\n",
        "2. Están **indexados**, los elementos del diccionario son accesibles a través del key.\n",
        "3. Y están **anidados**, un diccionario puede contener a otro diccionario en su campo value."
      ]
    },
    {
      "cell_type": "markdown",
      "metadata": {
        "id": "XVSX4Vmipibo"
      },
      "source": [
        "Para definir un diccionario, se encierra el listado de valores entre llaves. Las parejas de clave y valor se separan con comas, y la clave y el valor se separan con dos puntos."
      ]
    },
    {
      "cell_type": "code",
      "execution_count": null,
      "metadata": {
        "id": "zV162S9-pibp",
        "outputId": "f13c5bf9-e354-4622-c826-88e515dc7be3"
      },
      "outputs": [
        {
          "data": {
            "text/plain": [
              "{'nombre': 'Alberto', 'edad': 22, 'idiomas': ['Ingles', 'Frances']}"
            ]
          },
          "execution_count": 18,
          "metadata": {},
          "output_type": "execute_result"
        }
      ],
      "source": [
        "diccionario1 = {'nombre' : 'Alberto', \n",
        "               'edad' : 22, \n",
        "               'idiomas': ['Ingles','Frances'] }\n",
        "\n",
        "diccionario1"
      ]
    },
    {
      "cell_type": "markdown",
      "metadata": {
        "id": "bqd67sGwpibp"
      },
      "source": [
        "Otra forma equivalente de crear un diccionario en Python es usando `dict()` e introduciendo los pares key:value entre paréntesis. (`{key:value}`) como un array"
      ]
    },
    {
      "cell_type": "code",
      "execution_count": null,
      "metadata": {
        "id": "JgJRYZqRpibq",
        "outputId": "5b2915c0-b9b4-4080-ae20-52872e5488de"
      },
      "outputs": [
        {
          "data": {
            "text/plain": [
              "{'nombre': 'Alberto', 'edad': 22, 'idiomas': ['Ingles', 'Frances']}"
            ]
          },
          "execution_count": 19,
          "metadata": {},
          "output_type": "execute_result"
        }
      ],
      "source": [
        "diccionario2 = dict([\n",
        "      ('nombre', 'Alberto'),\n",
        "      ('edad',  22),\n",
        "      ('idiomas', ['Ingles','Frances']),\n",
        "])\n",
        "diccionario2"
      ]
    },
    {
      "cell_type": "markdown",
      "metadata": {
        "id": "T1k5wAtbpibq"
      },
      "source": [
        "También es posible usar el **constructor** dict() para crear un diccionario."
      ]
    },
    {
      "cell_type": "code",
      "execution_count": null,
      "metadata": {
        "id": "uTISmHTWpibq",
        "outputId": "467a9ab5-425e-476f-d3b1-c0bbe9babef9"
      },
      "outputs": [
        {
          "data": {
            "text/plain": [
              "{'nombre': 'Alberto', 'edad': 22, 'idiomas': ['Ingles', 'Frances']}"
            ]
          },
          "execution_count": 20,
          "metadata": {},
          "output_type": "execute_result"
        }
      ],
      "source": [
        "diccionario3 = dict(nombre='Alberto',\n",
        "                    edad=22,\n",
        "                    idiomas=['Ingles','Frances'])\n",
        "diccionario3"
      ]
    },
    {
      "cell_type": "markdown",
      "metadata": {
        "id": "jO2ZKLZdpibq"
      },
      "source": [
        "## Acceder y modificar elementos\n",
        "---"
      ]
    },
    {
      "cell_type": "markdown",
      "metadata": {
        "id": "CQVgKWPCpibq"
      },
      "source": [
        "Podemos acceder al elemento de un diccionario mediante la clave (**key**) de este elemento.\n",
        "\n",
        "Se puede acceder a sus elementos con `[]`"
      ]
    },
    {
      "cell_type": "code",
      "execution_count": null,
      "metadata": {
        "id": "WwUa35qQpibr",
        "outputId": "40ed7df0-0e20-4a19-a44d-b7ebe1999741"
      },
      "outputs": [
        {
          "name": "stdout",
          "output_type": "stream",
          "text": [
            "Alberto\n",
            "22\n",
            "['Ingles', 'Frances']\n"
          ]
        }
      ],
      "source": [
        "print(diccionario3['nombre'])\n",
        "print(diccionario3['edad'])\n",
        "print(diccionario3['idiomas'])"
      ]
    },
    {
      "cell_type": "markdown",
      "metadata": {
        "id": "apq49ycppibr"
      },
      "source": [
        "También con la función `get()`, que nos permite añadir un segundo parámetro que devolverá si no existiera dicha `Key`"
      ]
    },
    {
      "cell_type": "code",
      "execution_count": null,
      "metadata": {
        "id": "WEJAUD5Qpibr",
        "outputId": "5ec74385-dcd4-42d0-aaf3-3b0c6e6d343c"
      },
      "outputs": [
        {
          "name": "stdout",
          "output_type": "stream",
          "text": [
            "Alberto\n",
            "No existe\n"
          ]
        }
      ],
      "source": [
        "print(diccionario1['nombre'])\n",
        "print(diccionario1.get('nombres', 'No existe'))"
      ]
    },
    {
      "cell_type": "markdown",
      "metadata": {
        "id": "bq8-jOirpibr"
      },
      "source": [
        "También es posible insertar una lista dentro de un diccionario. \n",
        "Para acceder a cada uno de los idiomas usamos los índices:"
      ]
    },
    {
      "cell_type": "code",
      "execution_count": null,
      "metadata": {
        "id": "ToUieStNpibr",
        "outputId": "42bc91d3-2f6e-4b45-98e5-90ba6dda3b1d"
      },
      "outputs": [
        {
          "name": "stdout",
          "output_type": "stream",
          "text": [
            "Ingles\n",
            "Frances\n"
          ]
        }
      ],
      "source": [
        "print(diccionario2['idiomas'][0])\n",
        "print(diccionario2['idiomas'][1])"
      ]
    },
    {
      "cell_type": "markdown",
      "metadata": {
        "id": "j9j72Kj8pibs"
      },
      "source": [
        "Para modificar un elemento basta con usar [] con el nombre del key y asignar el valor que queremos."
      ]
    },
    {
      "cell_type": "code",
      "execution_count": null,
      "metadata": {
        "id": "6gkqH5Nypibs",
        "outputId": "bba7edf5-e8aa-4050-fdf7-bab8d4c40b03"
      },
      "outputs": [
        {
          "name": "stdout",
          "output_type": "stream",
          "text": [
            "{'nombre': 'Roberto', 'edad': 22, 'idiomas': ['Ingles', 'Frances']}\n"
          ]
        }
      ],
      "source": [
        "diccionario2['nombre'] = \"Roberto\"\n",
        "print(diccionario2)"
      ]
    },
    {
      "cell_type": "markdown",
      "metadata": {
        "id": "v8YjJmdqpibs"
      },
      "source": [
        "Si el key al que accedemos no existe, se añade automáticamente."
      ]
    },
    {
      "cell_type": "code",
      "execution_count": null,
      "metadata": {
        "id": "mgSoNEX0pibs",
        "outputId": "b2a9e489-8bbc-4d1f-cc98-7338ce78a22c"
      },
      "outputs": [
        {
          "name": "stdout",
          "output_type": "stream",
          "text": [
            "{'nombre': 'Roberto', 'edad': 22, 'idiomas': ['Ingles', 'Frances'], 'apellido': 'García'}\n"
          ]
        }
      ],
      "source": [
        "diccionario2['apellido'] = \"García\"\n",
        "print(diccionario2)"
      ]
    },
    {
      "cell_type": "markdown",
      "metadata": {
        "id": "xV0F6Yjxpibs"
      },
      "source": [
        "Utilizando el método `setdefault()`, podemos añadir un elemento a un diccionario si no existe, y si existe no substituye."
      ]
    },
    {
      "cell_type": "code",
      "execution_count": null,
      "metadata": {
        "id": "URrBhNEIpibs",
        "outputId": "ad54ed35-a3cd-4fdb-c5f5-92b7d5d7b3a7"
      },
      "outputs": [
        {
          "name": "stdout",
          "output_type": "stream",
          "text": [
            "{'nombre': 'Roberto', 'edad': 22, 'idiomas': ['Ingles', 'Frances'], 'apellido': 'García'}\n",
            "{'nombre': 'Roberto', 'edad': 22, 'idiomas': ['Ingles', 'Frances'], 'apellido': 'García', 'pais': 'España'}\n"
          ]
        }
      ],
      "source": [
        "print(diccionario2)\n",
        "diccionario2.setdefault('pais', \"España\")\n",
        "diccionario2.setdefault('edad', \"30\")\n",
        "print(diccionario2)"
      ]
    },
    {
      "cell_type": "code",
      "source": [
        "diccionario2 = {}\n",
        "diccionario2.setdefault('paises', []).append('Francia')\n",
        "diccionario2.setdefault('paises', []).append('Italia')\n",
        "diccionario2"
      ],
      "metadata": {
        "colab": {
          "base_uri": "https://localhost:8080/"
        },
        "id": "Tcsp04ExvDGs",
        "outputId": "dac46a8a-2a4a-4ce4-ae51-d6f51cc6dd4b"
      },
      "execution_count": null,
      "outputs": [
        {
          "output_type": "execute_result",
          "data": {
            "text/plain": [
              "{'paises': ['Francia', 'Italia']}"
            ]
          },
          "metadata": {},
          "execution_count": 3
        }
      ]
    },
    {
      "cell_type": "code",
      "source": [
        "help(dict.setdefault)"
      ],
      "metadata": {
        "colab": {
          "base_uri": "https://localhost:8080/"
        },
        "id": "c9JyMBMsuMxN",
        "outputId": "7d7e5f13-fdcc-4ec3-fc06-93d1493e269a"
      },
      "execution_count": null,
      "outputs": [
        {
          "output_type": "stream",
          "name": "stdout",
          "text": [
            "Help on method_descriptor:\n",
            "\n",
            "setdefault(self, key, default=None, /)\n",
            "    Insert key with a value of default if key is not in the dictionary.\n",
            "    \n",
            "    Return the value for key if key is in the dictionary, else default.\n",
            "\n"
          ]
        }
      ]
    },
    {
      "cell_type": "markdown",
      "metadata": {
        "id": "SL_5ITeXpibt"
      },
      "source": [
        "Para recorrer todo el diccionario, podemos hacer uso de la estructura for:"
      ]
    },
    {
      "cell_type": "code",
      "execution_count": null,
      "metadata": {
        "id": "WenkgWHFpibt",
        "outputId": "5141dd4c-707a-4e03-fd20-debf091a8e5c"
      },
      "outputs": [
        {
          "name": "stdout",
          "output_type": "stream",
          "text": [
            "nombre : Alberto\n",
            "edad : 22\n",
            "idiomas : ['Ingles', 'Frances']\n"
          ]
        }
      ],
      "source": [
        "for key in diccionario1:\n",
        "    print(key, \":\", diccionario1[key])"
      ]
    },
    {
      "cell_type": "markdown",
      "metadata": {
        "id": "9xHF8c1-pibt"
      },
      "source": [
        "Si solo queremos recorrer los valores `value`:"
      ]
    },
    {
      "cell_type": "code",
      "execution_count": null,
      "metadata": {
        "id": "lHW808Iqpibt",
        "outputId": "1b452fbe-77ba-4f06-ff08-b10185ca97ba"
      },
      "outputs": [
        {
          "name": "stdout",
          "output_type": "stream",
          "text": [
            "Alberto\n",
            "22\n",
            "['Ingles', 'Frances']\n"
          ]
        }
      ],
      "source": [
        "for value in diccionario1.values():\n",
        "    print(value)"
      ]
    },
    {
      "cell_type": "markdown",
      "metadata": {
        "id": "aZS7oBYxpibt"
      },
      "source": [
        "También podriamos hacerlo llamando al método `items()` del diccionario:"
      ]
    },
    {
      "cell_type": "code",
      "execution_count": null,
      "metadata": {
        "id": "ShNOGs5Upibt",
        "outputId": "2c6d2183-70f4-49dd-d048-ab765981382d"
      },
      "outputs": [
        {
          "name": "stdout",
          "output_type": "stream",
          "text": [
            "nombre, Alberto\n",
            "edad, 22\n",
            "idiomas, ['Ingles', 'Frances']\n"
          ]
        }
      ],
      "source": [
        "for x, y in diccionario1.items():\n",
        "    print(x, y, sep=\", \")"
      ]
    },
    {
      "cell_type": "markdown",
      "metadata": {
        "id": "x60BDxeGpibu"
      },
      "source": [
        "## Diccionarios anidados\n",
        "---\n",
        "Los diccionarios en Python pueden contener uno dentro de otro. Podemos ver como el diccionario anidado d_anidado contiene a su vez dos diccionarios."
      ]
    },
    {
      "cell_type": "code",
      "execution_count": null,
      "metadata": {
        "id": "Ou7jTWTUpibu",
        "outputId": "5059363e-8a75-4ce5-fe67-26de79a51567"
      },
      "outputs": [
        {
          "name": "stdout",
          "output_type": "stream",
          "text": [
            "{'d1': {'equipo': 'Real Madrid', 'delantero': 'Benzema'}, 'd2': {'equipo': 'Barcelona', 'delantero': 'Lewandowski'}}\n"
          ]
        }
      ],
      "source": [
        "dict1 = {\"equipo\": \"Real Madrid\", \"delantero\": \"Benzema\"}\n",
        "dict2 = {\"equipo\": \"Barcelona\", \"delantero\": \"Lewandowski\"}\n",
        "d_anidado = {\n",
        "  \"d1\" : dict1,\n",
        "  \"d2\" : dict2\n",
        "}\n",
        "print(d_anidado)"
      ]
    },
    {
      "cell_type": "markdown",
      "metadata": {
        "id": "BXWGQhEcpibu"
      },
      "source": [
        "## Unión de diccionarios\n",
        "---\n",
        "La forma en como juntamos dos diccionarios dentro del mismo sin anidarlos será mediante `**`"
      ]
    },
    {
      "cell_type": "code",
      "execution_count": null,
      "metadata": {
        "id": "b8SLIXDvpibu",
        "outputId": "1fec29dc-77eb-4ff2-c505-72a7e49c7359"
      },
      "outputs": [
        {
          "data": {
            "text/plain": [
              "{'equipo': 'Real Madrid', 'delantero': 'Benzema', 'defensa': 'Alaba'}"
            ]
          },
          "execution_count": 40,
          "metadata": {},
          "output_type": "execute_result"
        }
      ],
      "source": [
        "dict3 = {\"defensa\": \"Alaba\", \"delantero\": \"Benzema\"}\n",
        "d_merge = {**dict1, **dict3}\n",
        "d_merge"
      ]
    },
    {
      "cell_type": "markdown",
      "metadata": {
        "id": "vdMmUB3wpibu"
      },
      "source": [
        "En el caso que exista una key duplicada en ambos diccionarios, se tomará el valor del segundo diccionario."
      ]
    },
    {
      "cell_type": "code",
      "execution_count": null,
      "metadata": {
        "id": "2LaSGPcvpibu",
        "outputId": "53f58020-94a2-4a30-ae52-c31bf8e6e7a6"
      },
      "outputs": [
        {
          "data": {
            "text/plain": [
              "{'defensa': 'Alaba', 'delantero': 'Lewandowski', 'equipo': 'Barcelona'}"
            ]
          },
          "execution_count": 41,
          "metadata": {},
          "output_type": "execute_result"
        }
      ],
      "source": [
        "dict3 = {\"defensa\": \"Alaba\", \"delantero\": \"Benzema\"}\n",
        "d_merge = {**dict3, **dict2}\n",
        "d_merge"
      ]
    },
    {
      "cell_type": "markdown",
      "metadata": {
        "id": "8pvsIkiDpibu"
      },
      "source": [
        "## Dict Comprenhension\n",
        "---\n",
        "Python tiene comprensiones de diccionario con una sintaxis similar a las comprensiones de lista que vimos en el notebook anterior."
      ]
    },
    {
      "cell_type": "code",
      "execution_count": null,
      "metadata": {
        "id": "13ulEL7Ppibv",
        "outputId": "d44b9b21-5182-4808-8f90-cfedd14b6146"
      },
      "outputs": [
        {
          "data": {
            "text/plain": [
              "{'Mercurio': 'M',\n",
              " 'Venus': 'V',\n",
              " 'Tierra': 'T',\n",
              " 'Marte': 'M',\n",
              " 'Júpiter': 'J',\n",
              " 'Saturno': 'S',\n",
              " 'Urano': 'U',\n",
              " 'Neptuno': 'N'}"
            ]
          },
          "execution_count": 2,
          "metadata": {},
          "output_type": "execute_result"
        }
      ],
      "source": [
        "planetas = [\"Mercurio\", \"Venus\", \"Tierra\", \"Marte\", \"Júpiter\", \"Saturno\", \"Urano\", \"Neptuno\"]\n",
        "primerainicial = {planeta: planeta[0] for planeta in planetas}\n",
        "primerainicial"
      ]
    },
    {
      "cell_type": "markdown",
      "metadata": {
        "id": "ApoTqUiOpibv"
      },
      "source": [
        "## Metodos de los diccionarios"
      ]
    },
    {
      "cell_type": "markdown",
      "metadata": {
        "id": "NmEbv4PHpibv"
      },
      "source": [
        "#### All\n",
        "\n",
        "El método `all()` del diccionario devuelve **True** si todas las claves (keys) del diccionario son verdaderas (o si el diccionario está vacío). Si las claves del diccionario son **True** o si el método all del diccionario devuelve verdadero, en caso contrario devolverá falso."
      ]
    },
    {
      "cell_type": "code",
      "execution_count": null,
      "metadata": {
        "id": "OeUbmnuGpibv",
        "outputId": "c5bc0ebf-2724-4e4c-dbc4-7f2e1aa31188"
      },
      "outputs": [
        {
          "name": "stdout",
          "output_type": "stream",
          "text": [
            "{0: 'Léon', 1: 'Sara'}\n",
            "False\n",
            "\n",
            "{1: 'Sara'}\n",
            "True\n"
          ]
        }
      ],
      "source": [
        "dictt = {0: \"Léon\", 1: \"Sara\"}\n",
        "print(dictt)\n",
        "print(all(dictt))\n",
        "\n",
        "print()\n",
        "\n",
        "dictt = {1: \"Léon\", True: \"Sara\"}\n",
        "print(dictt)\n",
        "print(all(dictt))"
      ]
    },
    {
      "cell_type": "markdown",
      "metadata": {
        "id": "P8dtOL4Opibv"
      },
      "source": [
        "#### Any\n",
        "\n",
        "Las funciones `any()` del diccionario devuelven **True** si alguna clave del diccionario es verdadera. Si el diccionario está vacío, devuelve `False`."
      ]
    },
    {
      "cell_type": "code",
      "execution_count": null,
      "metadata": {
        "id": "GzZ7alkYpibv",
        "colab": {
          "base_uri": "https://localhost:8080/"
        },
        "outputId": "45614737-9b32-41b0-a18c-50530b39871e"
      },
      "outputs": [
        {
          "output_type": "stream",
          "name": "stdout",
          "text": [
            "{0: 'Léon', 1: 'Sara'}\n",
            "False\n",
            "\n",
            "{1: 'Sara'}\n",
            "True\n"
          ]
        }
      ],
      "source": [
        "dictt = {0: \"Léon\", 1: \"Sara\"}\n",
        "print(dictt)\n",
        "print(all(dictt))\n",
        "\n",
        "print()\n",
        "\n",
        "dictt = {1: \"Léon\", True: \"Sara\"}\n",
        "print(dictt)\n",
        "print(all(dictt))"
      ]
    },
    {
      "cell_type": "code",
      "source": [
        "test_dict = {'a':True, 'b':False}\n",
        "all(test_dict)"
      ],
      "metadata": {
        "colab": {
          "base_uri": "https://localhost:8080/"
        },
        "id": "iMMD0evVxP6t",
        "outputId": "e48b855f-d5bc-42a6-da6c-8861bcd2d7c0"
      },
      "execution_count": null,
      "outputs": [
        {
          "output_type": "execute_result",
          "data": {
            "text/plain": [
              "True"
            ]
          },
          "metadata": {},
          "execution_count": 6
        }
      ]
    },
    {
      "cell_type": "markdown",
      "source": [
        "# New Section"
      ],
      "metadata": {
        "id": "Akb6HihcDezM"
      }
    },
    {
      "cell_type": "markdown",
      "source": [
        "# New Section"
      ],
      "metadata": {
        "id": "Ace0B91sDfnz"
      }
    },
    {
      "cell_type": "markdown",
      "metadata": {
        "id": "KgMYGybppibv"
      },
      "source": [
        "#### Len\n",
        "\n",
        "El método `len()` del diccionario devuelve la longitud del diccionario (obviamente). Devuelve el número de elementos del diccionario."
      ]
    },
    {
      "cell_type": "code",
      "execution_count": null,
      "metadata": {
        "id": "tnaUzpYapibw",
        "outputId": "7bf95c3a-cbf4-495d-efdc-4109b6ec3fe3"
      },
      "outputs": [
        {
          "name": "stdout",
          "output_type": "stream",
          "text": [
            "3\n"
          ]
        }
      ],
      "source": [
        "diccionario1 = {'nombre' : 'Alberto', 'edad' : 22, 'idiomas': ['Ingles','Frances']}\n",
        "print(len(diccionario1))"
      ]
    },
    {
      "cell_type": "markdown",
      "metadata": {
        "id": "dJsMjz5lpibw"
      },
      "source": [
        "#### Sorted\n",
        "\n",
        "El método `sorted()` del diccionario devuelve una nueva lista ordenada de las claves del diccionario."
      ]
    },
    {
      "cell_type": "code",
      "execution_count": null,
      "metadata": {
        "id": "8GfypSZOpibw",
        "outputId": "adec5c28-e5c7-4862-c19b-d4a6526c7ac1"
      },
      "outputs": [
        {
          "name": "stdout",
          "output_type": "stream",
          "text": [
            "['edad', 'idiomas', 'nombre']\n"
          ]
        }
      ],
      "source": [
        "diccionario1 = {'nombre' : 'Alberto', 'edad' : 22, 'idiomas': ['Ingles','Frances']}\n",
        "print(sorted(diccionario1))"
      ]
    },
    {
      "cell_type": "markdown",
      "metadata": {
        "id": "COX5qriUpibw"
      },
      "source": [
        "El método sorted() acepta un parámetro inverso como argumento opcional."
      ]
    },
    {
      "cell_type": "code",
      "execution_count": null,
      "metadata": {
        "id": "kioyd2RHpibw",
        "outputId": "5208ab23-2c4c-4191-b8cf-2ac7414175d9"
      },
      "outputs": [
        {
          "name": "stdout",
          "output_type": "stream",
          "text": [
            "['nombre', 'idiomas', 'edad']\n"
          ]
        }
      ],
      "source": [
        "# Ordenar de forma descendente\n",
        "print(sorted(diccionario1, reverse = True))"
      ]
    },
    {
      "cell_type": "markdown",
      "metadata": {
        "id": "1w3PLHegpibw"
      },
      "source": [
        "#### Copy\n",
        "\n",
        "Como su nombre indica, el método copiar (copy) en diccionario devuelve una copia del diccionario."
      ]
    },
    {
      "cell_type": "markdown",
      "metadata": {
        "id": "6S9DCqFApibw"
      },
      "source": [
        "### **Notas importantes**\n",
        "Usar `copy()` al trabajar con diccionarios en Python es una **buena práctica** cuando deseas recorrer el diccionario y modificar su contenido al mismo tiempo. \n",
        "Esto se debe a que modificar un diccionario mientras se itera sobre él puede provocar comportamientos inesperados y errores.\n",
        "\n",
        "Al usar  `copy()` se crea una copia superficial del diccionario original. De esta manera, puedes recorrer la copia del diccionario y realizar modificaciones en el diccionario original sin afectar el proceso de iteración."
      ]
    },
    {
      "cell_type": "code",
      "execution_count": null,
      "metadata": {
        "id": "x1M3pJ_jpibx",
        "outputId": "0c6af46d-3390-4855-8a1e-e1da1068fa1c"
      },
      "outputs": [
        {
          "ename": "RuntimeError",
          "evalue": "dictionary changed size during iteration",
          "output_type": "error",
          "traceback": [
            "\u001b[0;31m---------------------------------------------------------------------------\u001b[0m",
            "\u001b[0;31mRuntimeError\u001b[0m                              Traceback (most recent call last)",
            "Cell \u001b[0;32mIn[68], line 2\u001b[0m\n\u001b[1;32m      1\u001b[0m diccionario_original \u001b[39m=\u001b[39m {\u001b[39m'\u001b[39m\u001b[39ma\u001b[39m\u001b[39m'\u001b[39m: \u001b[39m1\u001b[39m, \u001b[39m'\u001b[39m\u001b[39mb\u001b[39m\u001b[39m'\u001b[39m: \u001b[39m2\u001b[39m, \u001b[39m'\u001b[39m\u001b[39mc\u001b[39m\u001b[39m'\u001b[39m: \u001b[39m3\u001b[39m}\n\u001b[0;32m----> 2\u001b[0m \u001b[39mfor\u001b[39;00m clave \u001b[39min\u001b[39;00m diccionario_original:\n\u001b[1;32m      3\u001b[0m     \u001b[39mif\u001b[39;00m clave \u001b[39m==\u001b[39m \u001b[39m'\u001b[39m\u001b[39mb\u001b[39m\u001b[39m'\u001b[39m:\n\u001b[1;32m      4\u001b[0m         \u001b[39mdel\u001b[39;00m diccionario_original[clave]\n",
            "\u001b[0;31mRuntimeError\u001b[0m: dictionary changed size during iteration"
          ]
        }
      ],
      "source": [
        "diccionario_original = {'a': 1, 'b': 2, 'c': 3}\n",
        "for clave in diccionario_original:\n",
        "    if clave == 'b':\n",
        "        del diccionario_original[clave]\n",
        "\n",
        "print(diccionario_original)"
      ]
    },
    {
      "cell_type": "code",
      "execution_count": null,
      "metadata": {
        "id": "fKfSYYshpibx",
        "outputId": "772394ac-db7a-414b-eaad-6da9a3710f86"
      },
      "outputs": [
        {
          "name": "stdout",
          "output_type": "stream",
          "text": [
            "{'a': 1, 'c': 3}\n"
          ]
        }
      ],
      "source": [
        "diccionario_original = {'a': 1, 'b': 2, 'c': 3}\n",
        "diccionario_copia = diccionario_original.copy()\n",
        "\n",
        "for clave in diccionario_copia:\n",
        "    if clave == 'b':\n",
        "        del diccionario_original[clave]\n",
        "\n",
        "print(diccionario_original)"
      ]
    },
    {
      "cell_type": "markdown",
      "metadata": {
        "id": "_yvZSYR5pibx"
      },
      "source": [
        "La función `copy()` crea una copia superficial, lo que significa que si tienes un diccionario anidado, las referencias a los diccionarios internos seguirán siendo las mismas en la copia y el original. Si necesitas realizar una copia profunda de un diccionario anidado, puedes utilizar el módulo copy y su función deepcopy."
      ]
    },
    {
      "cell_type": "code",
      "execution_count": null,
      "metadata": {
        "id": "rkc3thpgpibx",
        "outputId": "3224ba1c-f7d1-4e6a-94fc-7e8a1ff17c70"
      },
      "outputs": [
        {
          "data": {
            "text/plain": [
              "{'a': 1, 'b': {'c': 2}}"
            ]
          },
          "execution_count": 70,
          "metadata": {},
          "output_type": "execute_result"
        }
      ],
      "source": [
        "import copy\n",
        "\n",
        "diccionario_original = {'a': 1, 'b': {'c': 2}}\n",
        "diccionario_copia = copy.deepcopy(diccionario_original)\n",
        "diccionario_copia"
      ]
    },
    {
      "cell_type": "markdown",
      "metadata": {
        "id": "i3fUJMeGpibx"
      },
      "source": [
        "El método `del()` elimina un elemento basándose en una clave(**key**) dada."
      ]
    },
    {
      "cell_type": "code",
      "execution_count": null,
      "metadata": {
        "id": "ystpZEespibx",
        "outputId": "f43c1e44-fab9-451b-fdab-4dc4213e68a6"
      },
      "outputs": [
        {
          "data": {
            "text/plain": [
              "{'edad': 22, 'idiomas': ['Ingles', 'Frances']}"
            ]
          },
          "execution_count": 62,
          "metadata": {},
          "output_type": "execute_result"
        }
      ],
      "source": [
        "diccionario1 = {'nombre' : 'Alberto', 'edad' : 22, 'idiomas': ['Ingles','Frances']}\n",
        "del diccionario1['nombre']\n",
        "diccionario1"
      ]
    },
    {
      "cell_type": "markdown",
      "metadata": {
        "id": "TgeaZP2jpibx"
      },
      "source": [
        "El método de `clear()` elimina todos los elementos de un diccionario."
      ]
    },
    {
      "cell_type": "code",
      "execution_count": null,
      "metadata": {
        "id": "ZH1UIuJEpiby",
        "outputId": "adfa97e4-b4c9-4609-c2c9-9eb6ed1df24a"
      },
      "outputs": [
        {
          "data": {
            "text/plain": [
              "{}"
            ]
          },
          "execution_count": 63,
          "metadata": {},
          "output_type": "execute_result"
        }
      ],
      "source": [
        "diccionario1 = {'nombre' : 'Alberto', 'edad' : 22, 'idiomas': ['Ingles','Frances']}\n",
        "diccionario1.clear()\n",
        "diccionario1"
      ]
    },
    {
      "cell_type": "markdown",
      "metadata": {
        "id": "5Fptel72piby"
      },
      "source": [
        "Comparación entre tipos complejos"
      ]
    },
    {
      "cell_type": "markdown",
      "metadata": {
        "id": "5HjyjSatpiby"
      },
      "source": [
        "| Tipo | Ordenada | Mutable | Inicialización |\n",
        "|---|---|---|---|\n",
        "| Lista | x | x | list() |\n",
        "| Tupla | x |  | tuple()|\n",
        "| Diccionario |  | x | dict() |\n",
        "| Conjunto |  | x | set()  |"
      ]
    },
    {
      "cell_type": "markdown",
      "metadata": {
        "id": "nCqxjKWYpiby"
      },
      "source": [
        "<h1>¡¡¡Lets Code!!! </h1>\n",
        "<img src=\"https://gifdb.com/images/thumbnail/pixel-art-super-mario-computer-amwdq1xi8bgz0omx.gif\" alt=\"Challenge Accepted\" style=\"width: 500px\">"
      ]
    },
    {
      "cell_type": "markdown",
      "metadata": {
        "id": "k61VgTRqpiby"
      },
      "source": [
        "#### **Enunciado Ejercicio 1**::\n",
        "Dada la siguiente cadena de texto = \"Lorem Ipsum es simplemente el texto de relleno de las imprentas y archivos de texto. Lorem Ipsum ha sido el texto de relleno estándar de las industrias desde el año 1500, cuando un impresor (N. del T. persona que se dedica a la imprenta) desconocido usó una galería de textos y los mezcló de tal manera que logró hacer un libro de textos especimen. No sólo sobrevivió 500 años, sino que tambien ingresó como texto de relleno en documentos electrónicos, quedando esencialmente igual al original. Fue popularizado en los 60s con la creación de las hojas 'Letraset', las cuales contenian pasajes de Lorem Ipsum, y más recientemente con software de autoedición, como por ejemplo Aldus PageMaker, el cual incluye versiones de Lorem Ipsum\".\n",
        "\n",
        "Crea un diccionario que cuente la frecuencia de cada palabra en la cadena."
      ]
    },
    {
      "cell_type": "markdown",
      "metadata": {
        "id": "c8CV5c9Lpiby"
      },
      "source": [
        "#### **Enunciado Ejercicio 2**::\n",
        "\n",
        "Teniendo en cuenta el siguiente diccionario:\n",
        "\n",
        "<pre>\n",
        "```\n",
        "Alumnos = {\n",
        "    \"Alberto\": 7,\n",
        "    \"Sara\": 4,\n",
        "    \"Julio\": 5,\n",
        "    \"Ana\": 3,\n",
        "}\n",
        "```\n",
        "</pre>\n",
        "\n",
        "Crea el código que invierta las claves y los valores."
      ]
    },
    {
      "cell_type": "code",
      "source": [
        "Alumnos = {\n",
        "    \"Alberto\": 7,\n",
        "    \"Sara\": 4,\n",
        "    \"Julio\": 5,\n",
        "    \"Ana\": 3,\n",
        "}\n",
        "\n",
        "notas_alumnos = {value:key for key,value in Alumnos.items()}\n",
        "print(notas_alumnos)"
      ],
      "metadata": {
        "colab": {
          "base_uri": "https://localhost:8080/"
        },
        "id": "xCDtjzn4Dkg6",
        "outputId": "21ddc96e-904c-4715-b5f5-47db739a654e"
      },
      "execution_count": 12,
      "outputs": [
        {
          "output_type": "stream",
          "name": "stdout",
          "text": [
            "{7: 'Alberto', 4: 'Sara', 5: 'Julio', 3: 'Ana'}\n"
          ]
        }
      ]
    },
    {
      "cell_type": "markdown",
      "metadata": {
        "id": "90yWkSGrpiby"
      },
      "source": [
        "#### **Enunciado Ejercicio 3**::\n",
        "Con estos dos diccionarios\n",
        "\n",
        "<pre>\n",
        "```\n",
        "diccionario1 = {\"a\": 1, \"b\": 2, \"c\": 3}\n",
        "diccionario2 = {\"b\": 7, \"c\": 8, \"d\": 9}\n",
        "```\n",
        "</pre>\n",
        "\n",
        "Queremos una bloque de código que nos permita fusionarlos. Si una clave está presente en ambos diccionarios, suma los valores correspondientes."
      ]
    },
    {
      "cell_type": "code",
      "source": [
        "diccionario1 = {\"a\": 1, \"b\": 2, \"c\": 3}\n",
        "diccionario2 = {\"b\": 7, \"c\": 8, \"d\": 9}\n",
        "\n",
        "diccionario_fusionado = diccionario1.copy()\n",
        "for key,value in diccionario2.items():\n",
        "  diccionario_fusionado.setdefault(key, 0)\n",
        "  diccionario_fusionado[key] += value\n",
        "\n",
        "print(diccionario_fusionado)"
      ],
      "metadata": {
        "colab": {
          "base_uri": "https://localhost:8080/"
        },
        "id": "BRn60qG9F2g6",
        "outputId": "e3b68670-d6ab-4533-9455-d041acfb943a"
      },
      "execution_count": 17,
      "outputs": [
        {
          "output_type": "stream",
          "name": "stdout",
          "text": [
            "{'a': 1, 'b': 9, 'c': 11, 'd': 9}\n"
          ]
        }
      ]
    },
    {
      "cell_type": "markdown",
      "metadata": {
        "id": "rIFwzyKgpiby"
      },
      "source": [
        "#### **Enunciado Ejercicio 4**::\n",
        "Sois un detective que ha interceptado un mensaje criptográfico oculto en un conjunto de datos. Se te ha proporcionado un diccionario con diversos elementos, donde cada uno de ellos tiene un valor que contiene una palabra.\n",
        "Tu tarea es descubrir el mensaje oculto.\n",
        "\n",
        "El mensaje oculto se forma ordenando por la clave(key) y extrayendo la primera letra de cada palabra. Desentraña el misterio y revela el mensaje oculto."
      ]
    },
    {
      "cell_type": "code",
      "source": [
        "datos = {\n",
        "    3: \"Hola\",\n",
        "    1: \"este\",\n",
        "    4: \"es\",\n",
        "    2: \"un\",\n",
        "    5: \"mensaje\",\n",
        "    6: \"oculto\"\n",
        "}\n",
        "\n",
        "# Ordenar el diccionario por clave\n",
        "datos_ordenados = sorted(datos.items())\n",
        "datos_ordenados_dict = dict(datos_ordenados)\n",
        "datos_ordenados_dict\n",
        "\n",
        "primeras_letras = [value[0] for key,value in datos_ordenados_dict.items()]\n",
        "primeras_letras = [value[1][0] for key,value in datos_ordenados]\n",
        "primeras_letras\n",
        "\n",
        "print(f\"El mensaje cifrado es: {''.join(primeras_letras)}\")\n"
      ],
      "metadata": {
        "colab": {
          "base_uri": "https://localhost:8080/"
        },
        "id": "tYMtqXwfILyZ",
        "outputId": "c8157aaf-cc60-4a9c-92d4-5fe591429a9f"
      },
      "execution_count": 22,
      "outputs": [
        {
          "output_type": "stream",
          "name": "stdout",
          "text": [
            "El mensaje cifrado es: snosec\n"
          ]
        }
      ]
    },
    {
      "cell_type": "code",
      "source": [],
      "metadata": {
        "id": "q7dIfotnIONn"
      },
      "execution_count": null,
      "outputs": []
    }
  ],
  "metadata": {
    "kernelspec": {
      "display_name": "Python 3",
      "language": "python",
      "name": "python3"
    },
    "language_info": {
      "codemirror_mode": {
        "name": "ipython",
        "version": 3
      },
      "file_extension": ".py",
      "mimetype": "text/x-python",
      "name": "python",
      "nbconvert_exporter": "python",
      "pygments_lexer": "ipython3",
      "version": "3.10.10"
    },
    "orig_nbformat": 4,
    "colab": {
      "provenance": [],
      "toc_visible": true,
      "include_colab_link": true
    }
  },
  "nbformat": 4,
  "nbformat_minor": 0
}